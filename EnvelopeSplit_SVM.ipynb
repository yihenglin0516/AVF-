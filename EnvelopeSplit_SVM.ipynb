{
 "cells": [
  {
   "cell_type": "code",
   "execution_count": 1,
   "id": "dd9c1834-848e-46cd-b33d-d4f8b0b011e4",
   "metadata": {},
   "outputs": [],
   "source": [
    "import librosa \n",
    "import opensmile \n",
    "import pandas as pd \n",
    "import os \n",
    "from openpyxl import load_workbook\n",
    "import numpy as np\n",
    "from sklearn import svm\n",
    "from tqdm import tqdm\n",
    "from sklearn.model_selection import cross_val_score\n",
    "from sklearn.model_selection import train_test_split\n",
    "from sklearn.preprocessing import StandardScaler\n",
    "from sklearn.svm import SVC \n",
    "from sklearn.metrics import ConfusionMatrixDisplay\n",
    "import matplotlib.pyplot as plt\n"
   ]
  },
  {
   "cell_type": "code",
   "execution_count": 2,
   "id": "c60cbc91-a0f6-41ab-9142-b264d06236a4",
   "metadata": {},
   "outputs": [],
   "source": [
    "path = \"sound/audio_input_3\"\n",
    "wb = load_workbook('data_all_feature.xlsx')\n",
    "sheet = wb['工作表1']\n",
    "name_table = sheet[\"B\"]\n",
    "flow_table = sheet[\"C\"]"
   ]
  },
  {
   "cell_type": "code",
   "execution_count": 3,
   "id": "edf541fa-a34f-41c1-98f0-307f17eb54c4",
   "metadata": {},
   "outputs": [
    {
     "data": {
      "text/plain": [
       "['3699595',\n",
       " '6392346',\n",
       " '6277241',\n",
       " '5262794',\n",
       " '3682716',\n",
       " 'A563007',\n",
       " '9888821',\n",
       " '1158282',\n",
       " '9703744',\n",
       " '6720278',\n",
       " '2918920']"
      ]
     },
     "execution_count": 3,
     "metadata": {},
     "output_type": "execute_result"
    }
   ],
   "source": [
    "smile = opensmile.Smile(\n",
    "    feature_set=opensmile.FeatureSet.eGeMAPSv02,\n",
    "    feature_level=opensmile.FeatureLevel.LowLevelDescriptors,\n",
    ")\n",
    "x = []\n",
    "y = [] \n",
    "name = [] \n",
    "count = 0\n",
    "count_low = 0 \n",
    "count_high = 0 \n",
    "name_list = []\n",
    "for  index , dirname in enumerate(os.listdir(path)):\n",
    "    name_list.append(dirname)\n",
    "train_index , test_index  = train_test_split(range(0,len(name_list)),random_state=99, train_size=0.8)\n",
    "train_name = []\n",
    "test_name = []\n",
    "for index in train_index:\n",
    "    train_name.append(name_list[index])\n",
    "for index in test_index:\n",
    "    test_name.append(name_list[index])\n",
    "    \n",
    "test_name"
   ]
  },
  {
   "cell_type": "code",
   "execution_count": 4,
   "id": "e66beca6-7350-4379-af1c-e0708eea7743",
   "metadata": {},
   "outputs": [
    {
     "name": "stdout",
     "output_type": "stream",
     "text": [
      "302\n"
     ]
    }
   ],
   "source": [
    "train_x = []\n",
    "train_y = []\n",
    "train_name_list = [] \n",
    "for dirname in train_name:\n",
    "        d = os.path.join(path,dirname)\n",
    "        for filename in os.listdir(d):\n",
    "            f = os.path.join(d,filename)\n",
    "            ## audio feature processing \n",
    "            audio,sr = librosa.load(f,sr=None)\n",
    "            ## Extract only 0.5 second \n",
    "            audio = audio[0:int(sr*0.4)]\n",
    "            \n",
    "            #audio = librosa.effects.time_stretch(audio,rate=t_factor)\n",
    "            #feature = smile.process_signal(\n",
    "            #audio,\n",
    "            #sr\n",
    "            #)\n",
    "            ft = librosa.feature.mfcc(y=audio, sr=sr)\n",
    "            ft = ft.T\n",
    "            #ft = feature.to_numpy(dtype=\"float64\")\n",
    "            size = ft.shape\n",
    "            ft = ft.reshape(1,size[0]*size[1])\n",
    "\n",
    "            train_name_list.append(dirname[0:7])\n",
    "            # find the associated flow in excel table \n",
    "            flag = 0\n",
    "\n",
    "            for index,num in enumerate(name_table):\n",
    "                if num.value == dirname[0:7]:\n",
    "                    flag = 1\n",
    "                    flow = flow_table[index].value\n",
    "                    if flow > 1200 :\n",
    "                        train_y.append(1)\n",
    "                        train_x.append(ft[0])\n",
    "                        count_high += 1 \n",
    "                    else: \n",
    "                        train_y.append(0)\n",
    "                        train_x.append(ft[0])\n",
    "                        count_low += 1\n",
    "            if flag == 0 :\n",
    "                print(dirname[0:7])\n",
    "print(len(train_x))       \n",
    "train_x = np.array(train_x)\n",
    "train_y = np.array(train_y) \n"
   ]
  },
  {
   "cell_type": "code",
   "execution_count": null,
   "id": "864762d2-d261-4577-9958-8503058f7678",
   "metadata": {},
   "outputs": [],
   "source": []
  },
  {
   "cell_type": "code",
   "execution_count": 5,
   "id": "74bcb0b3-9000-456a-b20f-80c59109dddd",
   "metadata": {},
   "outputs": [
    {
     "name": "stdout",
     "output_type": "stream",
     "text": [
      "84\n"
     ]
    }
   ],
   "source": [
    "test_x = []\n",
    "test_y = []\n",
    "test_dict_x = {} \n",
    "for dirname in test_name:\n",
    "        d = os.path.join(path,dirname)\n",
    "        test_tmp_x= []\n",
    "        for filename in os.listdir(d):\n",
    "            f = os.path.join(d,filename)\n",
    "            ## audio feature processing \n",
    "            audio,sr = librosa.load(f,sr=None)\n",
    "            ## Extract only 0.5 second \n",
    "            #t = len(audio)/sr \n",
    "            #t_factor = t/0.5\n",
    "            audio = audio[0:int(sr*0.4)]\n",
    "            #audio = librosa.effects.time_stretch(audio,rate=t_factor)\n",
    "            #feature = smile.process_signal(\n",
    "            #audio,\n",
    "            #sr\n",
    "            #)\n",
    "            ft = librosa.feature.mfcc(y=audio, sr=sr)\n",
    "            ft = ft.T\n",
    "            #ft = feature.to_numpy(dtype=\"float64\")\n",
    "            size = ft.shape\n",
    "            ft = ft.reshape(1,size[0]*size[1])\n",
    "\n",
    "            \n",
    "            # find the associated flow in excel table \n",
    "            flag = 0\n",
    "            \n",
    "            for index,num in enumerate(name_table):\n",
    "                if num.value == dirname[0:7]:\n",
    "                    flag = 1\n",
    "                    flow = flow_table[index].value\n",
    "                    if flow > 1200 :\n",
    "                        test_y.append(1)\n",
    "                        test_x.append(ft[0])\n",
    "                        test_tmp_x.append(ft[0])\n",
    "                        count_high += 1\n",
    "                    else: \n",
    "                        test_y.append(0)\n",
    "                        test_x.append(ft[0])\n",
    "                        test_tmp_x.append(ft[0])\n",
    "                        count_low += 1\n",
    "            if flag == 0 :\n",
    "                print(dirname[0:7])\n",
    "        test_tmp_x.append(test_y[-1])\n",
    "        test_dict_x[dirname] = test_tmp_x\n",
    "\n",
    "print(len(test_x))         \n",
    "test_x = np.array(test_x)\n",
    "test_y = np.array(test_y) \n"
   ]
  },
  {
   "cell_type": "code",
   "execution_count": 6,
   "id": "862f1b96-ec9e-4225-be0b-26793c22d95e",
   "metadata": {},
   "outputs": [
    {
     "name": "stdout",
     "output_type": "stream",
     "text": [
      "number of samples that flow>1200 : 201\n",
      "number of samples that flow<1200 : 185\n"
     ]
    }
   ],
   "source": [
    "print(f\"number of samples that flow>1200 : {count_high}\")\n",
    "      \n",
    "print(f\"number of samples that flow<1200 : {count_low}\")"
   ]
  },
  {
   "cell_type": "code",
   "execution_count": null,
   "id": "39192d34-c9a4-4efe-9f38-0f29cc14250f",
   "metadata": {},
   "outputs": [],
   "source": []
  },
  {
   "cell_type": "code",
   "execution_count": 7,
   "id": "e6c4a9e1-c721-493e-9e2d-0a1563b4b769",
   "metadata": {},
   "outputs": [
    {
     "name": "stdout",
     "output_type": "stream",
     "text": [
      "(386, 140)\n"
     ]
    }
   ],
   "source": [
    "x = np.concatenate([train_x,test_x])\n",
    "print(x.shape)\n",
    "sc = StandardScaler()\n",
    "sc.fit(x)\n",
    "train_x = sc.transform(train_x)\n",
    "test_x = sc.transform(test_x)"
   ]
  },
  {
   "cell_type": "code",
   "execution_count": 8,
   "id": "641bae8e-f15f-4733-bdd1-66f5b2cfb2ee",
   "metadata": {},
   "outputs": [
    {
     "name": "stderr",
     "output_type": "stream",
     "text": [
      "100%|██████████████████████████████████████████████████████████████████████████████████████████████████████████████| 100/100 [00:03<00:00, 25.05it/s]"
     ]
    },
    {
     "name": "stdout",
     "output_type": "stream",
     "text": [
      "0.6655737704918032\n",
      "5\n",
      "3\n"
     ]
    },
    {
     "name": "stderr",
     "output_type": "stream",
     "text": [
      "\n"
     ]
    }
   ],
   "source": [
    "# Training with different parameters using polynomial kernal \n",
    "acc = 0 \n",
    "best_c = 0\n",
    "best_d = 0 \n",
    "progress = tqdm(total = 100)\n",
    "for d  in range(10):\n",
    "    for c in range(10):\n",
    "        clf = SVC(kernel= 'poly',degree=d, random_state=777,C=c+1)\n",
    "        scores = cross_val_score(clf,train_x,train_y,cv=5,scoring='accuracy')\n",
    "        acc_tmp = scores.mean()\n",
    "        if acc_tmp > acc :\n",
    "            best_c = c \n",
    "            best_d = d \n",
    "            acc = acc_tmp\n",
    "        progress.update(1)\n",
    "progress.close()\n",
    "print(acc)\n",
    "print(best_c)\n",
    "print(best_d)\n",
    "    "
   ]
  },
  {
   "cell_type": "code",
   "execution_count": 9,
   "id": "03190928-5e60-4171-9a6e-d0c8505a1a85",
   "metadata": {},
   "outputs": [
    {
     "data": {
      "text/plain": [
       "0.5357142857142857"
      ]
     },
     "execution_count": 9,
     "metadata": {},
     "output_type": "execute_result"
    }
   ],
   "source": [
    "clf = SVC(kernel= 'poly',degree=best_d, random_state=777,C=best_c+1)\n",
    "clf.fit(train_x,train_y)\n",
    "clf.score(test_x,test_y)"
   ]
  },
  {
   "cell_type": "code",
   "execution_count": 10,
   "id": "310918f1-b015-4e7d-a408-04a5dbae58ee",
   "metadata": {},
   "outputs": [
    {
     "name": "stdout",
     "output_type": "stream",
     "text": [
      "Result of Audio 3\n",
      "9888821 : accuracy = 0.000 , correct / all = 0 / 8\n",
      "A563007 : accuracy = 0.000 , correct / all = 0 / 8\n",
      "3682716 : accuracy = 0.167 , correct / all = 1 / 6\n",
      "6392346 : accuracy = 0.167 , correct / all = 1 / 6\n",
      "2918920 : accuracy = 0.625 , correct / all = 5 / 8\n",
      "6277241 : accuracy = 0.625 , correct / all = 5 / 8\n",
      "3699595 : accuracy = 0.667 , correct / all = 6 / 9\n",
      "6720278 : accuracy = 0.857 , correct / all = 6 / 7\n",
      "1158282 : accuracy = 0.875 , correct / all = 7 / 8\n",
      "5262794 : accuracy = 0.875 , correct / all = 7 / 8\n",
      "9703744 : accuracy = 0.875 , correct / all = 7 / 8\n"
     ]
    }
   ],
   "source": [
    "### check result \n",
    "print(\"Result of Audio 3\" )\n",
    "count=0\n",
    "incorrect_all = 0 \n",
    "key_list = []\n",
    "acc_list = []\n",
    "correct_list = []\n",
    "incorrect_list = []\n",
    "for key in test_dict_x:\n",
    "    label = test_dict_x[key][-1]\n",
    "    feature = test_dict_x[key][0:-1]\n",
    "    correct = 0 \n",
    "    incorrect = 0 \n",
    "    for audio in feature :\n",
    "        count+=1\n",
    "        audio = audio.reshape(1, -1)\n",
    "        audio=sc.transform(audio)\n",
    "        answer = clf.predict(audio)\n",
    "        #print(answer)\n",
    "        if answer == label :\n",
    "            correct +=1 \n",
    "        else :\n",
    "            incorrect +=1 \n",
    "            incorrect_all+=1\n",
    "    acc = correct / (correct + incorrect)\n",
    "    key_list.append(key)\n",
    "    acc_list.append(acc)\n",
    "    correct_list.append(correct)\n",
    "    incorrect_list.append(incorrect)\n",
    "for acc,key,correct,incorrect in sorted(zip(acc_list,key_list,correct_list,incorrect_list)):\n",
    "    print(f\"{key} : accuracy = {acc:.3f} , correct / all = {correct} / {correct+incorrect}\" )\n"
   ]
  },
  {
   "cell_type": "code",
   "execution_count": 11,
   "id": "aaf5eec0-1442-4b90-a204-ed01057eb9fe",
   "metadata": {},
   "outputs": [
    {
     "name": "stdout",
     "output_type": "stream",
     "text": [
      "Confusion matrix, without normalization\n",
      "[[12 19]\n",
      " [20 33]]\n",
      "Normalized confusion matrix\n",
      "[[12 19]\n",
      " [20 33]]\n"
     ]
    },
    {
     "data": {
      "image/png": "[encoded data removed]",
      "text/plain": [
       "<Figure size 640x480 with 2 Axes>"
      ]
     },
     "metadata": {},
     "output_type": "display_data"
    },
    {
     "data": {
      "image/png": "[encoded data removed]",
      "text/plain": [
       "<Figure size 640x480 with 2 Axes>"
      ]
     },
     "metadata": {},
     "output_type": "display_data"
    }
   ],
   "source": [
    "titles_options = [\n",
    "    (\"Confusion matrix, without normalization\", None),\n",
    "    (\"Normalized confusion matrix\", \"true\"),\n",
    "]\n",
    "for title, normalize in titles_options:\n",
    "    disp = ConfusionMatrixDisplay.from_estimator(clf,test_x,test_y)\n",
    "    disp.ax_.set_title(title)\n",
    "\n",
    "    print(title)\n",
    "    print(disp.confusion_matrix)\n",
    "\n",
    "plt.show()"
   ]
  },
  {
   "cell_type": "code",
   "execution_count": null,
   "id": "43b2d316-574e-428a-b278-a329a007903f",
   "metadata": {},
   "outputs": [],
   "source": []
  },
  {
   "cell_type": "code",
   "execution_count": 12,
   "id": "62d9f12c-6f29-4631-b29d-444429613081",
   "metadata": {},
   "outputs": [
    {
     "data": {
      "text/plain": [
       "['6023662',\n",
       " '7598608',\n",
       " '1406897',\n",
       " 'B987967',\n",
       " '9423853',\n",
       " '2898255',\n",
       " '3130262',\n",
       " '9985055',\n",
       " 'A526770',\n",
       " '1090214',\n",
       " '1932905',\n",
       " '1980209',\n",
       " '9798781',\n",
       " '9703744',\n",
       " '6106202',\n",
       " '3283431',\n",
       " '1251521',\n",
       " 'B547181',\n",
       " '7850111',\n",
       " '6720278',\n",
       " '3523570',\n",
       " '3699595',\n",
       " '5262794',\n",
       " '4910370',\n",
       " '6277241',\n",
       " '2573891',\n",
       " '0934441',\n",
       " '8247125',\n",
       " 'B326929',\n",
       " '1121538',\n",
       " '5773646',\n",
       " '7998339',\n",
       " '2918920',\n",
       " '1152355',\n",
       " '6392346',\n",
       " '3262855',\n",
       " '8106153',\n",
       " '8302630',\n",
       " '1123429',\n",
       " '9073913',\n",
       " 'A563007',\n",
       " '3682716',\n",
       " '2734792',\n",
       " 'A889463',\n",
       " '5617204',\n",
       " '0775431',\n",
       " '1158282',\n",
       " '3219094',\n",
       " '2433946',\n",
       " 'B243252',\n",
       " '8266733',\n",
       " '3054498',\n",
       " '1974434',\n",
       " '1763716']"
      ]
     },
     "execution_count": 12,
     "metadata": {},
     "output_type": "execute_result"
    }
   ],
   "source": [
    "import os \n",
    "directory = \"sound/audio_input_2\"\n",
    "os.listdir(directory)\n"
   ]
  },
  {
   "cell_type": "code",
   "execution_count": null,
   "id": "4be97809-caa1-4793-875a-8ff1ad652527",
   "metadata": {},
   "outputs": [],
   "source": []
  }
 ],
 "metadata": {
  "kernelspec": {
   "display_name": "Python 3 (ipykernel)",
   "language": "python",
   "name": "python3"
  },
  "language_info": {
   "codemirror_mode": {
    "name": "ipython",
    "version": 3
   },
   "file_extension": ".py",
   "mimetype": "text/x-python",
   "name": "python",
   "nbconvert_exporter": "python",
   "pygments_lexer": "ipython3",
   "version": "3.8.13"
  }
 },
 "nbformat": 4,
 "nbformat_minor": 5
}
